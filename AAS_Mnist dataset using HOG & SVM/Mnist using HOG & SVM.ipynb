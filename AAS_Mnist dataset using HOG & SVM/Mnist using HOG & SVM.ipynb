{
 "cells": [
  {
   "cell_type": "markdown",
   "id": "18b73fab",
   "metadata": {},
   "source": [
    "# SAHDAD JOVITO \n",
    "# 4212101031\n",
    "# MEKATRONIKA 5A PAGI"
   ]
  },
  {
   "cell_type": "code",
   "execution_count": 1,
   "id": "a2ffe626",
   "metadata": {},
   "outputs": [],
   "source": [
    "import matplotlib.pyplot as plt\n",
    "from skimage.feature import hog\n",
    "from sklearn import datasets\n",
    "from sklearn import svm\n",
    "from mlxtend.data import loadlocal_mnist\n",
    "import numpy as np "
   ]
  },
  {
   "cell_type": "code",
   "execution_count": 2,
   "id": "7878aab0",
   "metadata": {},
   "outputs": [],
   "source": [
    "from sklearn.preprocessing import LabelBinarizer\n",
    "from sklearn.metrics import confusion_matrix\n",
    "from mlxtend.plotting import plot_confusion_matrix\n",
    "from sklearn.metrics import precision_score, accuracy_score"
   ]
  },
  {
   "cell_type": "markdown",
   "id": "ca381255",
   "metadata": {},
   "source": [
    "# memuat dataset gambar"
   ]
  },
  {
   "cell_type": "code",
   "execution_count": 3,
   "id": "e908f967",
   "metadata": {},
   "outputs": [],
   "source": [
    "train_images, train_labels = loadlocal_mnist(images_path='images/mnist-dataset/train-images-idx3-ubyte',\n",
    "                                             labels_path='images/mnist-dataset/train-labels-idx1-ubyte')\n",
    "\n",
    "test_images, test_labels   = loadlocal_mnist(images_path='images/mnist-dataset/t10k-images-idx3-ubyte',\n",
    "                                             labels_path='images/mnist-dataset/t10k-labels-idx1-ubyte')"
   ]
  },
  {
   "cell_type": "code",
   "execution_count": 4,
   "id": "bf459ed6",
   "metadata": {},
   "outputs": [
    {
     "name": "stdout",
     "output_type": "stream",
     "text": [
      "label gambar =  7\n"
     ]
    },
    {
     "data": {
      "image/png": "[encoded data removed]",
      "text/plain": [
       "<Figure size 640x480 with 1 Axes>"
      ]
     },
     "metadata": {},
     "output_type": "display_data"
    }
   ],
   "source": [
    "image = 15 #index gambar\n",
    "\n",
    "# plt.imshow(train_images[image].reshape(28,28), cmap='gray')\n",
    "# print ('label gambar = ', train_labels[image])"
   ]
  },
  {
   "cell_type": "markdown",
   "id": "7bd9c44d",
   "metadata": {},
   "source": [
    "## 1. Preprocessing menggunakan fitur HOG Extraction"
   ]
  },
  {
   "cell_type": "code",
   "execution_count": 5,
   "id": "89839070",
   "metadata": {},
   "outputs": [],
   "source": [
    "feature, _ = hog(train_images[image].reshape(28,28), orientations=9, \n",
    "                pixels_per_cell=(8, 8), cells_per_block=(2,2), \n",
    "                visualize=True, block_norm='L2')"
   ]
  },
  {
   "cell_type": "code",
   "execution_count": 6,
   "id": "6eb50e68",
   "metadata": {},
   "outputs": [],
   "source": [
    "n_dims = feature.shape[0]\n",
    "n_samples = train_images.shape[0]\n",
    "x_train, y_train = datasets.make_classification(n_samples=n_samples, n_features=n_dims)"
   ]
  },
  {
   "cell_type": "markdown",
   "id": "aggressive-details",
   "metadata": {},
   "source": [
    "**Dapatkan fitur HOG dari setiap gambar & masukkan ke dalam variabel dataset**"
   ]
  },
  {
   "cell_type": "code",
   "execution_count": 7,
   "id": "handy-spanking",
   "metadata": {},
   "outputs": [],
   "source": [
    "for i in range(n_samples):\n",
    "    x_train[i], _ = hog(train_images[i].reshape(28,28), orientations=9, \n",
    "                        pixels_per_cell=(8, 8), cells_per_block=(2,2), \n",
    "                        visualize=True, block_norm='L2')\n",
    "\n",
    "y_train = np.array(train_labels)"
   ]
  },
  {
   "cell_type": "markdown",
   "id": "present-exhibit",
   "metadata": {},
   "source": [
    "## 2. klasifikasi menggunakan Support Vector Machines"
   ]
  },
  {
   "cell_type": "code",
   "execution_count": 18,
   "id": "349abc48",
   "metadata": {},
   "outputs": [
    {
     "data": {
      "text/html": [
       "<style>#sk-container-id-2 {color: black;}#sk-container-id-2 pre{padding: 0;}#sk-container-id-2 div.sk-toggleable {background-color: white;}#sk-container-id-2 label.sk-toggleable__label {cursor: pointer;display: block;width: 100%;margin-bottom: 0;padding: 0.3em;box-sizing: border-box;text-align: center;}#sk-container-id-2 label.sk-toggleable__label-arrow:before {content: \"▸\";float: left;margin-right: 0.25em;color: #696969;}#sk-container-id-2 label.sk-toggleable__label-arrow:hover:before {color: black;}#sk-container-id-2 div.sk-estimator:hover label.sk-toggleable__label-arrow:before {color: black;}#sk-container-id-2 div.sk-toggleable__content {max-height: 0;max-width: 0;overflow: hidden;text-align: left;background-color: #f0f8ff;}#sk-container-id-2 div.sk-toggleable__content pre {margin: 0.2em;color: black;border-radius: 0.25em;background-color: #f0f8ff;}#sk-container-id-2 input.sk-toggleable__control:checked~div.sk-toggleable__content {max-height: 200px;max-width: 100%;overflow: auto;}#sk-container-id-2 input.sk-toggleable__control:checked~label.sk-toggleable__label-arrow:before {content: \"▾\";}#sk-container-id-2 div.sk-estimator input.sk-toggleable__control:checked~label.sk-toggleable__label {background-color: #d4ebff;}#sk-container-id-2 div.sk-label input.sk-toggleable__control:checked~label.sk-toggleable__label {background-color: #d4ebff;}#sk-container-id-2 input.sk-hidden--visually {border: 0;clip: rect(1px 1px 1px 1px);clip: rect(1px, 1px, 1px, 1px);height: 1px;margin: -1px;overflow: hidden;padding: 0;position: absolute;width: 1px;}#sk-container-id-2 div.sk-estimator {font-family: monospace;background-color: #f0f8ff;border: 1px dotted black;border-radius: 0.25em;box-sizing: border-box;margin-bottom: 0.5em;}#sk-container-id-2 div.sk-estimator:hover {background-color: #d4ebff;}#sk-container-id-2 div.sk-parallel-item::after {content: \"\";width: 100%;border-bottom: 1px solid gray;flex-grow: 1;}#sk-container-id-2 div.sk-label:hover label.sk-toggleable__label {background-color: #d4ebff;}#sk-container-id-2 div.sk-serial::before {content: \"\";position: absolute;border-left: 1px solid gray;box-sizing: border-box;top: 0;bottom: 0;left: 50%;z-index: 0;}#sk-container-id-2 div.sk-serial {display: flex;flex-direction: column;align-items: center;background-color: white;padding-right: 0.2em;padding-left: 0.2em;position: relative;}#sk-container-id-2 div.sk-item {position: relative;z-index: 1;}#sk-container-id-2 div.sk-parallel {display: flex;align-items: stretch;justify-content: center;background-color: white;position: relative;}#sk-container-id-2 div.sk-item::before, #sk-container-id-2 div.sk-parallel-item::before {content: \"\";position: absolute;border-left: 1px solid gray;box-sizing: border-box;top: 0;bottom: 0;left: 50%;z-index: -1;}#sk-container-id-2 div.sk-parallel-item {display: flex;flex-direction: column;z-index: 1;position: relative;background-color: white;}#sk-container-id-2 div.sk-parallel-item:first-child::after {align-self: flex-end;width: 50%;}#sk-container-id-2 div.sk-parallel-item:last-child::after {align-self: flex-start;width: 50%;}#sk-container-id-2 div.sk-parallel-item:only-child::after {width: 0;}#sk-container-id-2 div.sk-dashed-wrapped {border: 1px dashed gray;margin: 0 0.4em 0.5em 0.4em;box-sizing: border-box;padding-bottom: 0.4em;background-color: white;}#sk-container-id-2 div.sk-label label {font-family: monospace;font-weight: bold;display: inline-block;line-height: 1.2em;}#sk-container-id-2 div.sk-label-container {text-align: center;}#sk-container-id-2 div.sk-container {/* jupyter's `normalize.less` sets `[hidden] { display: none; }` but bootstrap.min.css set `[hidden] { display: none !important; }` so we also need the `!important` here to be able to override the default hidden behavior on the sphinx rendered scikit-learn.org. See: https://github.com/scikit-learn/scikit-learn/issues/21755 */display: inline-block !important;position: relative;}#sk-container-id-2 div.sk-text-repr-fallback {display: none;}</style><div id=\"sk-container-id-2\" class=\"sk-top-container\"><div class=\"sk-text-repr-fallback\"><pre>SVC()</pre><b>In a Jupyter environment, please rerun this cell to show the HTML representation or trust the notebook. <br />On GitHub, the HTML representation is unable to render, please try loading this page with nbviewer.org.</b></div><div class=\"sk-container\" hidden><div class=\"sk-item\"><div class=\"sk-estimator sk-toggleable\"><input class=\"sk-toggleable__control sk-hidden--visually\" id=\"sk-estimator-id-2\" type=\"checkbox\" checked><label for=\"sk-estimator-id-2\" class=\"sk-toggleable__label sk-toggleable__label-arrow\">SVC</label><div class=\"sk-toggleable__content\"><pre>SVC()</pre></div></div></div></div></div>"
      ],
      "text/plain": [
       "SVC()"
      ]
     },
     "execution_count": 18,
     "metadata": {},
     "output_type": "execute_result"
    }
   ],
   "source": [
    "clf = svm.SVC()\n",
    "clf.fit(x_train, y_train)"
   ]
  },
  {
   "cell_type": "markdown",
   "id": "described-intersection",
   "metadata": {},
   "source": [
    "## 3. pengujian prediksi dataset"
   ]
  },
  {
   "cell_type": "code",
   "execution_count": 10,
   "id": "b1ff69d3",
   "metadata": {},
   "outputs": [],
   "source": [
    "n_samples = test_images.shape[0]\n",
    "x_test, y_test = datasets.make_classification(n_samples=n_samples, n_features=n_dims)"
   ]
  },
  {
   "cell_type": "code",
   "execution_count": 11,
   "id": "c0839652",
   "metadata": {},
   "outputs": [],
   "source": [
    "for i in range(n_samples):\n",
    "    x_test[i], _ = hog(test_images[i].reshape(28,28), orientations=9, \n",
    "                       pixels_per_cell=(8, 8), cells_per_block=(2,2), \n",
    "                       visualize=True, block_norm='L2')"
   ]
  },
  {
   "cell_type": "code",
   "execution_count": 19,
   "id": "44a8f90b",
   "metadata": {},
   "outputs": [],
   "source": [
    "\n",
    "y_pred = clf.predict(x_test)\n",
    "y_test = np.array(test_labels)"
   ]
  },
  {
   "cell_type": "markdown",
   "id": "98b7d367",
   "metadata": {},
   "source": [
    "## 4. menampilkan hasil prediksi ##"
   ]
  },
  {
   "cell_type": "code",
   "execution_count": 26,
   "id": "e0bb1426",
   "metadata": {},
   "outputs": [
    {
     "name": "stdout",
     "output_type": "stream",
     "text": [
      "hasil :  7\n"
     ]
    },
    {
     "data": {
      "image/png": "[encoded data removed]",
      "text/plain": [
       "<Figure size 640x480 with 1 Axes>"
      ]
     },
     "metadata": {},
     "output_type": "display_data"
    }
   ],
   "source": [
    "image = 133 #index gambar \n",
    "\n",
    "plt.imshow(test_images[image].reshape(28,28), cmap='gray')\n",
    "out = clf.predict(x_test[image].reshape(1, n_dims))\n",
    "print('hasil : ',out[0])"
   ]
  },
  {
   "cell_type": "markdown",
   "id": "9080a922",
   "metadata": {},
   "source": [
    "## 5. Statistik training menggunakan SVM ##"
   ]
  },
  {
   "cell_type": "markdown",
   "id": "a33620b5",
   "metadata": {},
   "source": [
    "### 5.1 Confussion Matrix"
   ]
  },
  {
   "cell_type": "code",
   "execution_count": 14,
   "id": "448315a6",
   "metadata": {},
   "outputs": [
    {
     "data": {
      "image/png": "[encoded data removed]",
      "text/plain": [
       "<Figure size 640x480 with 1 Axes>"
      ]
     },
     "metadata": {},
     "output_type": "display_data"
    }
   ],
   "source": [
    "conf_mat = confusion_matrix(y_test, y_pred)\n",
    "class_names = ['0', '1', '2', '3', '4', '5', '6', '7', '8', '9']\n",
    "fig, ax = plot_confusion_matrix(conf_mat=conf_mat, class_names=class_names)"
   ]
  },
  {
   "cell_type": "markdown",
   "id": "73a154fe",
   "metadata": {},
   "source": [
    "### 5.2 Precission"
   ]
  },
  {
   "cell_type": "code",
   "execution_count": 15,
   "id": "99fe14d7",
   "metadata": {},
   "outputs": [
    {
     "data": {
      "text/plain": [
       "array([0.97897898, 0.99120493, 0.97393822, 0.97117296, 0.96649746,\n",
       "       0.9819209 , 0.99157895, 0.97428289, 0.96639511, 0.96233895])"
      ]
     },
     "execution_count": 15,
     "metadata": {},
     "output_type": "execute_result"
    }
   ],
   "source": [
    "precision = precision_score(y_test, y_pred, average=None)\n",
    "precision"
   ]
  },
  {
   "cell_type": "markdown",
   "id": "23f64179",
   "metadata": {},
   "source": [
    "### 5.3 Accuracy "
   ]
  },
  {
   "cell_type": "code",
   "execution_count": 16,
   "id": "1502d72e",
   "metadata": {},
   "outputs": [
    {
     "data": {
      "text/plain": [
       "0.9759"
      ]
     },
     "execution_count": 16,
     "metadata": {},
     "output_type": "execute_result"
    }
   ],
   "source": [
    "accuracy = accuracy_score(y_test, y_pred)\n",
    "accuracy"
   ]
  }
 ],
 "metadata": {
  "kernelspec": {
   "display_name": "Python 3 (ipykernel)",
   "language": "python",
   "name": "python3"
  },
  "language_info": {
   "codemirror_mode": {
    "name": "ipython",
    "version": 3
   },
   "file_extension": ".py",
   "mimetype": "text/x-python",
   "name": "python",
   "nbconvert_exporter": "python",
   "pygments_lexer": "ipython3",
   "version": "3.10.8"
  }
 },
 "nbformat": 4,
 "nbformat_minor": 5
}
